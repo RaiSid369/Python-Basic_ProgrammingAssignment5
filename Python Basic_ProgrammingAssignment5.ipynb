{
 "cells": [
  {
   "cell_type": "code",
   "execution_count": null,
   "id": "9e5f956b",
   "metadata": {},
   "outputs": [],
   "source": [
    "# Que 1. Write a Python Program to Find LCM?"
   ]
  },
  {
   "cell_type": "code",
   "execution_count": null,
   "id": "dbece340",
   "metadata": {},
   "outputs": [],
   "source": [
    "a = int(input(\"Enter the first integer number = \"))\n",
    "b = int(input(\"Enter the second integer number = \"))\n",
    "if a>b:\n",
    "    LowerValue = a\n",
    "else:\n",
    "    LowerValue = b\n",
    "for i in range(1, LowerValue+1):\n",
    "    if a%i == 0 and b%i==0:\n",
    "        HCF = i\n",
    "LCM = a*b/HCF\n",
    "print(\"The LCM is\", int(LCM))"
   ]
  },
  {
   "cell_type": "code",
   "execution_count": null,
   "id": "8bc204b5",
   "metadata": {},
   "outputs": [],
   "source": []
  },
  {
   "cell_type": "code",
   "execution_count": null,
   "id": "b5a54fa7",
   "metadata": {},
   "outputs": [],
   "source": [
    "#  Que 2. Write a Python Program to Find HCF?"
   ]
  },
  {
   "cell_type": "code",
   "execution_count": null,
   "id": "f118d308",
   "metadata": {},
   "outputs": [],
   "source": [
    "a = int(input(\"Enter the first integer number = \"))\n",
    "b = int(input(\"Enter the second integer number = \"))\n",
    "if a>b:\n",
    "    LowerValue = a\n",
    "else:\n",
    "    LowerValue = b\n",
    "for i in range(1, LowerValue+1):\n",
    "    if a%i == 0 and b%i==0:\n",
    "        HCF = i\n",
    "print(\"The HCF is\", HCF)"
   ]
  },
  {
   "cell_type": "code",
   "execution_count": null,
   "id": "0b66b6f5",
   "metadata": {},
   "outputs": [],
   "source": []
  },
  {
   "cell_type": "code",
   "execution_count": null,
   "id": "6e598b31",
   "metadata": {},
   "outputs": [],
   "source": [
    "# Que 3. Write a Python Program to Convert Decimal to Binary, Octal, and Hexadecimal?"
   ]
  },
  {
   "cell_type": "code",
   "execution_count": null,
   "id": "0af6e57a",
   "metadata": {},
   "outputs": [],
   "source": [
    "deci = int(input(\"Enter the decimal number = \"))\n",
    "\n",
    "print(\"Binary form of given number is :\", bin(deci))\n",
    "print(\"Octal form of given number is :\", oct(deci))\n",
    "print(\"Hexadecimal form of given number is :\", hex(deci))"
   ]
  },
  {
   "cell_type": "code",
   "execution_count": null,
   "id": "d5decaa6",
   "metadata": {},
   "outputs": [],
   "source": []
  },
  {
   "cell_type": "code",
   "execution_count": null,
   "id": "e82c1657",
   "metadata": {},
   "outputs": [],
   "source": [
    "# Que 4. Write a Python Program To Find ASCII value of a character?"
   ]
  },
  {
   "cell_type": "code",
   "execution_count": null,
   "id": "12dbd742",
   "metadata": {},
   "outputs": [],
   "source": [
    "a = input(\"Enter the character = \")\n",
    "print(\"The ASCII value is :\", ord(a))"
   ]
  },
  {
   "cell_type": "code",
   "execution_count": null,
   "id": "21e7badc",
   "metadata": {},
   "outputs": [],
   "source": []
  },
  {
   "cell_type": "code",
   "execution_count": null,
   "id": "9ecc44e3",
   "metadata": {},
   "outputs": [],
   "source": [
    "# Que 5. Write a Python Program to Make a Simple Calculator with 4 basic mathematical operations?"
   ]
  },
  {
   "cell_type": "code",
   "execution_count": null,
   "id": "b87546c2",
   "metadata": {},
   "outputs": [],
   "source": [
    "a = float(input(\"Enter first number = \"))\n",
    "b = (input(\"select the mathematical operation from +, -, * or / : \"))\n",
    "c = float(input(\"Enter second number = \"))\n",
    "if b == \"+\":\n",
    "    d = a+c\n",
    "    print(d)\n",
    "elif b == \"-\":\n",
    "    d = a-c\n",
    "    print(d)\n",
    "elif b == \"*\":\n",
    "    d = a*c\n",
    "    print(d)\n",
    "elif b == \"/\":\n",
    "    d = a/c\n",
    "    print(d)\n",
    "else:\n",
    "    print(\"Wrong mathematical operation selected\")"
   ]
  }
 ],
 "metadata": {
  "kernelspec": {
   "display_name": "Python 3 (ipykernel)",
   "language": "python",
   "name": "python3"
  },
  "language_info": {
   "codemirror_mode": {
    "name": "ipython",
    "version": 3
   },
   "file_extension": ".py",
   "mimetype": "text/x-python",
   "name": "python",
   "nbconvert_exporter": "python",
   "pygments_lexer": "ipython3",
   "version": "3.9.12"
  }
 },
 "nbformat": 4,
 "nbformat_minor": 5
}
